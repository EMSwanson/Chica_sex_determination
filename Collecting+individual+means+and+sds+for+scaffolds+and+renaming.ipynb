{
 "cells": [
  {
   "cell_type": "code",
   "execution_count": 354,
   "metadata": {
    "collapsed": true
   },
   "outputs": [],
   "source": [
    "import pandas as pd"
   ]
  },
  {
   "cell_type": "code",
   "execution_count": 388,
   "metadata": {
    "collapsed": true
   },
   "outputs": [],
   "source": [
    "import re"
   ]
  },
  {
   "cell_type": "code",
   "execution_count": 355,
   "metadata": {},
   "outputs": [],
   "source": [
    "def load_names(x, y):   ###x should be the current drive and y the file of names\n",
    "    name_list = pd.read_csv(current_drive + file_of_names, header=None)   ##just reads in the name file\n",
    "    return name_list"
   ]
  },
  {
   "cell_type": "code",
   "execution_count": 356,
   "metadata": {},
   "outputs": [],
   "source": [
    "def load_file(current_drive, id_name, suffix_to_use):   \n",
    "    loaded_id_file = pd.read_csv(current_drive + id_name + suffix_to_use)\n",
    "    return loaded_id_file"
   ]
  },
  {
   "cell_type": "code",
   "execution_count": 496,
   "metadata": {},
   "outputs": [],
   "source": [
    "def loop_plus_cat(current_drive, file_of_names, suffix_to_use):\n",
    "    fish_name_list = load_names(current_drive, file_of_names)\n",
    "    fish_name_list = fish_name_list.values.flatten()\n",
    "    current_file = pd.read_csv(current_drive+fish_name_list[0]+suffix_to_use)\n",
    "    for i in fish_name_list[1:]:\n",
    "        new_file = pd.read_csv(current_drive+i+suffix_to_use)\n",
    "        current_file = current_file.merge(new_file, left_on=\"Scaff\", right_on=\"Scaff\", how=\"outer\")\n",
    "    return current_file"
   ]
  },
  {
   "cell_type": "code",
   "execution_count": 443,
   "metadata": {},
   "outputs": [],
   "source": [
    "def make_names_whole(current_drive, file_of_names):\n",
    "    fish_name_list = load_names(current_drive, file_of_names)\n",
    "    fish_name_list = fish_name_list.values.flatten()\n",
    "    col_names = []\n",
    "    for i in fish_name_list:\n",
    "        col_names.append([i,i])\n",
    "    return col_names"
   ]
  },
  {
   "cell_type": "code",
   "execution_count": null,
   "metadata": {
    "collapsed": true
   },
   "outputs": [],
   "source": [
    "def indexing_by_scaff(x):\n",
    "    to_be_index = x['Scaff']\n",
    "    x.set_index(to_be_index,inplace=True)\n",
    "    x.index.names = [\"Scaffolds\"]\n",
    "    x = x.iloc[:,1:]\n",
    "    return(x)"
   ]
  },
  {
   "cell_type": "code",
   "execution_count": 444,
   "metadata": {},
   "outputs": [],
   "source": [
    "def comb_names(x,y):   ###Combines the ID name and the column name X is the list of names to add to the beginning of each column name, y is the data frame with the columns\n",
    "    new_name = []\n",
    "    for i in range(0,len(x)):\n",
    "        new_name.append([x[i] + \"_\" + y.columns[i]])\n",
    "    return new_name"
   ]
  },
  {
   "cell_type": "code",
   "execution_count": 500,
   "metadata": {},
   "outputs": [],
   "source": [
    "def collect_fns():  ###Collects and runs all other functions\n",
    "    collected_data = loop_plus_cat(\"C://Users/Owner/OneDrive/School/Data, analyses/ChicaPopGen/Samtools indexing for depth/\",\"fish_name_list.txt\",\"_scaff_coverage_means.csv\")\n",
    "    collected_data_ind = indexing_by_scaff(collected_data)\n",
    "    dat = make_names_whole(\"C://Users/Owner/OneDrive/School/Data, analyses/ChicaPopGen/Samtools indexing for depth/\",\"fish_name_list.txt\")\n",
    "    dat = sum(dat,[])   ###Flattens out a list of lists\n",
    "    new_cols = comb_names(dat,collected_data_ind)\n",
    "    collected_data_ind.columns = sum(new_cols,[])\n",
    "    collected_data_ind.rename(columns = lambda x: str(x)[:-2],inplace=True)\n",
    "    return collected_data_ind"
   ]
  },
  {
   "cell_type": "code",
   "execution_count": 501,
   "metadata": {},
   "outputs": [],
   "source": [
    "fin_collected_data = collect_fns()"
   ]
  },
  {
   "cell_type": "code",
   "execution_count": 502,
   "metadata": {},
   "outputs": [
    {
     "data": {
      "text/html": [
       "<div>\n",
       "<style>\n",
       "    .dataframe thead tr:only-child th {\n",
       "        text-align: right;\n",
       "    }\n",
       "\n",
       "    .dataframe thead th {\n",
       "        text-align: left;\n",
       "    }\n",
       "\n",
       "    .dataframe tbody tr th {\n",
       "        vertical-align: top;\n",
       "    }\n",
       "</style>\n",
       "<table border=\"1\" class=\"dataframe\">\n",
       "  <thead>\n",
       "    <tr style=\"text-align: right;\">\n",
       "      <th></th>\n",
       "      <th>Chica1_1_meanCoverage</th>\n",
       "      <th>Chica1_1_sdCoverage</th>\n",
       "      <th>Chica1_2_meanCoverage</th>\n",
       "      <th>Chica1_2_sdCoverage</th>\n",
       "      <th>Chica1_3_meanCoverage</th>\n",
       "      <th>Chica1_3_sdCoverage</th>\n",
       "      <th>Chica1_4_meanCoverage</th>\n",
       "      <th>Chica1_4_sdCoverage</th>\n",
       "      <th>Chica1_5_meanCoverage</th>\n",
       "      <th>Chica1_5_sdCoverage</th>\n",
       "      <th>...</th>\n",
       "      <th>Chica5_1_meanCoverage</th>\n",
       "      <th>Chica5_1_sdCoverage</th>\n",
       "      <th>Chica5_2_meanCoverage</th>\n",
       "      <th>Chica5_2_sdCoverage</th>\n",
       "      <th>Chica5_3_meanCoverage</th>\n",
       "      <th>Chica5_3_sdCoverage</th>\n",
       "      <th>Chica5_4_meanCoverage</th>\n",
       "      <th>Chica5_4_sdCoverage</th>\n",
       "      <th>Chica5_5_meanCovera</th>\n",
       "      <th>Chica5_5_sdCovera</th>\n",
       "    </tr>\n",
       "    <tr>\n",
       "      <th>Scaffolds</th>\n",
       "      <th></th>\n",
       "      <th></th>\n",
       "      <th></th>\n",
       "      <th></th>\n",
       "      <th></th>\n",
       "      <th></th>\n",
       "      <th></th>\n",
       "      <th></th>\n",
       "      <th></th>\n",
       "      <th></th>\n",
       "      <th></th>\n",
       "      <th></th>\n",
       "      <th></th>\n",
       "      <th></th>\n",
       "      <th></th>\n",
       "      <th></th>\n",
       "      <th></th>\n",
       "      <th></th>\n",
       "      <th></th>\n",
       "      <th></th>\n",
       "      <th></th>\n",
       "    </tr>\n",
       "  </thead>\n",
       "  <tbody>\n",
       "    <tr>\n",
       "      <th>KB871578.1</th>\n",
       "      <td>19.413955</td>\n",
       "      <td>81.987353</td>\n",
       "      <td>16.760530</td>\n",
       "      <td>77.917957</td>\n",
       "      <td>16.889603</td>\n",
       "      <td>77.170843</td>\n",
       "      <td>15.780526</td>\n",
       "      <td>72.768727</td>\n",
       "      <td>16.466872</td>\n",
       "      <td>76.723659</td>\n",
       "      <td>...</td>\n",
       "      <td>16.119820</td>\n",
       "      <td>73.431375</td>\n",
       "      <td>15.361610</td>\n",
       "      <td>71.138758</td>\n",
       "      <td>17.856956</td>\n",
       "      <td>79.182670</td>\n",
       "      <td>17.574500</td>\n",
       "      <td>75.596912</td>\n",
       "      <td>16.053073</td>\n",
       "      <td>73.334494</td>\n",
       "    </tr>\n",
       "    <tr>\n",
       "      <th>KB871579.1</th>\n",
       "      <td>19.282897</td>\n",
       "      <td>67.101396</td>\n",
       "      <td>16.560078</td>\n",
       "      <td>59.232316</td>\n",
       "      <td>17.138219</td>\n",
       "      <td>60.090474</td>\n",
       "      <td>15.825007</td>\n",
       "      <td>56.599352</td>\n",
       "      <td>16.497723</td>\n",
       "      <td>59.134526</td>\n",
       "      <td>...</td>\n",
       "      <td>15.961844</td>\n",
       "      <td>57.840378</td>\n",
       "      <td>15.450392</td>\n",
       "      <td>54.483037</td>\n",
       "      <td>18.147928</td>\n",
       "      <td>63.100267</td>\n",
       "      <td>17.712773</td>\n",
       "      <td>59.747140</td>\n",
       "      <td>16.231544</td>\n",
       "      <td>57.936438</td>\n",
       "    </tr>\n",
       "    <tr>\n",
       "      <th>KB871580.1</th>\n",
       "      <td>19.630793</td>\n",
       "      <td>88.503955</td>\n",
       "      <td>16.910572</td>\n",
       "      <td>79.839155</td>\n",
       "      <td>17.014600</td>\n",
       "      <td>80.458281</td>\n",
       "      <td>16.039311</td>\n",
       "      <td>76.266913</td>\n",
       "      <td>16.691072</td>\n",
       "      <td>79.657913</td>\n",
       "      <td>...</td>\n",
       "      <td>15.981568</td>\n",
       "      <td>76.204019</td>\n",
       "      <td>15.417151</td>\n",
       "      <td>73.042701</td>\n",
       "      <td>17.845945</td>\n",
       "      <td>83.665880</td>\n",
       "      <td>17.564939</td>\n",
       "      <td>81.385502</td>\n",
       "      <td>16.268325</td>\n",
       "      <td>75.416366</td>\n",
       "    </tr>\n",
       "    <tr>\n",
       "      <th>KB871581.1</th>\n",
       "      <td>20.428401</td>\n",
       "      <td>46.131924</td>\n",
       "      <td>17.345277</td>\n",
       "      <td>39.387848</td>\n",
       "      <td>18.137062</td>\n",
       "      <td>45.533176</td>\n",
       "      <td>16.662093</td>\n",
       "      <td>46.575912</td>\n",
       "      <td>17.340454</td>\n",
       "      <td>48.859606</td>\n",
       "      <td>...</td>\n",
       "      <td>16.745680</td>\n",
       "      <td>46.115145</td>\n",
       "      <td>16.250526</td>\n",
       "      <td>40.107298</td>\n",
       "      <td>18.947310</td>\n",
       "      <td>51.036277</td>\n",
       "      <td>18.690527</td>\n",
       "      <td>43.173430</td>\n",
       "      <td>16.739346</td>\n",
       "      <td>37.523886</td>\n",
       "    </tr>\n",
       "    <tr>\n",
       "      <th>KB871582.1</th>\n",
       "      <td>18.657653</td>\n",
       "      <td>28.060572</td>\n",
       "      <td>15.932997</td>\n",
       "      <td>24.622503</td>\n",
       "      <td>16.087285</td>\n",
       "      <td>23.980616</td>\n",
       "      <td>15.010306</td>\n",
       "      <td>22.331428</td>\n",
       "      <td>15.581851</td>\n",
       "      <td>23.946667</td>\n",
       "      <td>...</td>\n",
       "      <td>15.355558</td>\n",
       "      <td>23.555737</td>\n",
       "      <td>14.655541</td>\n",
       "      <td>22.605872</td>\n",
       "      <td>17.101520</td>\n",
       "      <td>25.549308</td>\n",
       "      <td>16.906903</td>\n",
       "      <td>23.982765</td>\n",
       "      <td>15.489264</td>\n",
       "      <td>24.131018</td>\n",
       "    </tr>\n",
       "  </tbody>\n",
       "</table>\n",
       "<p>5 rows × 38 columns</p>\n",
       "</div>"
      ],
      "text/plain": [
       "            Chica1_1_meanCoverage  Chica1_1_sdCoverage  Chica1_2_meanCoverage  \\\n",
       "Scaffolds                                                                       \n",
       "KB871578.1              19.413955            81.987353              16.760530   \n",
       "KB871579.1              19.282897            67.101396              16.560078   \n",
       "KB871580.1              19.630793            88.503955              16.910572   \n",
       "KB871581.1              20.428401            46.131924              17.345277   \n",
       "KB871582.1              18.657653            28.060572              15.932997   \n",
       "\n",
       "            Chica1_2_sdCoverage  Chica1_3_meanCoverage  Chica1_3_sdCoverage  \\\n",
       "Scaffolds                                                                     \n",
       "KB871578.1            77.917957              16.889603            77.170843   \n",
       "KB871579.1            59.232316              17.138219            60.090474   \n",
       "KB871580.1            79.839155              17.014600            80.458281   \n",
       "KB871581.1            39.387848              18.137062            45.533176   \n",
       "KB871582.1            24.622503              16.087285            23.980616   \n",
       "\n",
       "            Chica1_4_meanCoverage  Chica1_4_sdCoverage  Chica1_5_meanCoverage  \\\n",
       "Scaffolds                                                                       \n",
       "KB871578.1              15.780526            72.768727              16.466872   \n",
       "KB871579.1              15.825007            56.599352              16.497723   \n",
       "KB871580.1              16.039311            76.266913              16.691072   \n",
       "KB871581.1              16.662093            46.575912              17.340454   \n",
       "KB871582.1              15.010306            22.331428              15.581851   \n",
       "\n",
       "            Chica1_5_sdCoverage        ...          Chica5_1_meanCoverage  \\\n",
       "Scaffolds                              ...                                  \n",
       "KB871578.1            76.723659        ...                      16.119820   \n",
       "KB871579.1            59.134526        ...                      15.961844   \n",
       "KB871580.1            79.657913        ...                      15.981568   \n",
       "KB871581.1            48.859606        ...                      16.745680   \n",
       "KB871582.1            23.946667        ...                      15.355558   \n",
       "\n",
       "            Chica5_1_sdCoverage  Chica5_2_meanCoverage  Chica5_2_sdCoverage  \\\n",
       "Scaffolds                                                                     \n",
       "KB871578.1            73.431375              15.361610            71.138758   \n",
       "KB871579.1            57.840378              15.450392            54.483037   \n",
       "KB871580.1            76.204019              15.417151            73.042701   \n",
       "KB871581.1            46.115145              16.250526            40.107298   \n",
       "KB871582.1            23.555737              14.655541            22.605872   \n",
       "\n",
       "            Chica5_3_meanCoverage  Chica5_3_sdCoverage  Chica5_4_meanCoverage  \\\n",
       "Scaffolds                                                                       \n",
       "KB871578.1              17.856956            79.182670              17.574500   \n",
       "KB871579.1              18.147928            63.100267              17.712773   \n",
       "KB871580.1              17.845945            83.665880              17.564939   \n",
       "KB871581.1              18.947310            51.036277              18.690527   \n",
       "KB871582.1              17.101520            25.549308              16.906903   \n",
       "\n",
       "            Chica5_4_sdCoverage  Chica5_5_meanCovera  Chica5_5_sdCovera  \n",
       "Scaffolds                                                                \n",
       "KB871578.1            75.596912            16.053073          73.334494  \n",
       "KB871579.1            59.747140            16.231544          57.936438  \n",
       "KB871580.1            81.385502            16.268325          75.416366  \n",
       "KB871581.1            43.173430            16.739346          37.523886  \n",
       "KB871582.1            23.982765            15.489264          24.131018  \n",
       "\n",
       "[5 rows x 38 columns]"
      ]
     },
     "execution_count": 502,
     "metadata": {},
     "output_type": "execute_result"
    }
   ],
   "source": [
    "fin_collected_data.head()"
   ]
  },
  {
   "cell_type": "code",
   "execution_count": 482,
   "metadata": {
    "collapsed": true
   },
   "outputs": [],
   "source": []
  },
  {
   "cell_type": "code",
   "execution_count": 432,
   "metadata": {},
   "outputs": [],
   "source": []
  },
  {
   "cell_type": "code",
   "execution_count": 433,
   "metadata": {
    "collapsed": true
   },
   "outputs": [],
   "source": []
  },
  {
   "cell_type": "code",
   "execution_count": null,
   "metadata": {
    "collapsed": true
   },
   "outputs": [],
   "source": []
  },
  {
   "cell_type": "code",
   "execution_count": 363,
   "metadata": {},
   "outputs": [],
   "source": [
    "fin_collected_data.to_csv(\"C://Users/Owner/OneDrive/School/Data, analyses/ChicaPopGen/Samtools indexing for depth/mean_and_sd_coverage_combined.csv\")"
   ]
  },
  {
   "cell_type": "code",
   "execution_count": null,
   "metadata": {
    "collapsed": true
   },
   "outputs": [],
   "source": []
  }
 ],
 "metadata": {
  "kernelspec": {
   "display_name": "Python 3",
   "language": "python",
   "name": "python3"
  },
  "language_info": {
   "codemirror_mode": {
    "name": "ipython",
    "version": 3
   },
   "file_extension": ".py",
   "mimetype": "text/x-python",
   "name": "python",
   "nbconvert_exporter": "python",
   "pygments_lexer": "ipython3",
   "version": "3.6.1"
  }
 },
 "nbformat": 4,
 "nbformat_minor": 2
}
