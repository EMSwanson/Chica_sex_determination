{
 "cells": [
  {
   "cell_type": "code",
   "execution_count": 354,
   "metadata": {
    "collapsed": true
   },
   "outputs": [],
   "source": [
    "import pandas as pd"
   ]
  },
  {
   "cell_type": "code",
   "execution_count": 388,
   "metadata": {
    "collapsed": true
   },
   "outputs": [],
   "source": [
    "import re"
   ]
  },
  {
   "cell_type": "code",
   "execution_count": 355,
   "metadata": {
    "collapsed": true
   },
   "outputs": [],
   "source": [
    "def load_names(x, y):   ###x should be the current drive and y the file of names\n",
    "    name_list = pd.read_csv(current_drive + file_of_names, header=None)   ##just reads in the name file\n",
    "    return name_list"
   ]
  },
  {
   "cell_type": "code",
   "execution_count": 356,
   "metadata": {
    "collapsed": true
   },
   "outputs": [],
   "source": [
    "def load_file(current_drive, id_name, suffix_to_use):   \n",
    "    loaded_id_file = pd.read_csv(current_drive + id_name + suffix_to_use)\n",
    "    return loaded_id_file"
   ]
  },
  {
   "cell_type": "code",
   "execution_count": 496,
   "metadata": {
    "collapsed": true
   },
   "outputs": [],
   "source": [
    "def loop_plus_cat(current_drive, file_of_names, suffix_to_use):\n",
    "    fish_name_list = load_names(current_drive, file_of_names)\n",
    "    fish_name_list = fish_name_list.values.flatten()\n",
    "    current_file = pd.read_csv(current_drive+fish_name_list[0]+suffix_to_use)\n",
    "    for i in fish_name_list[1:]:\n",
    "        new_file = pd.read_csv(current_drive+i+suffix_to_use)\n",
    "        current_file = current_file.merge(new_file, left_on=\"Scaff\", right_on=\"Scaff\", how=\"outer\")\n",
    "    return current_file"
   ]
  },
  {
   "cell_type": "code",
   "execution_count": 443,
   "metadata": {
    "collapsed": true
   },
   "outputs": [],
   "source": [
    "def make_names_whole(current_drive, file_of_names):\n",
    "    fish_name_list = load_names(current_drive, file_of_names)\n",
    "    fish_name_list = fish_name_list.values.flatten()\n",
    "    col_names = []\n",
    "    for i in fish_name_list:\n",
    "        col_names.append([i,i])\n",
    "    return col_names"
   ]
  },
  {
   "cell_type": "code",
   "execution_count": null,
   "metadata": {
    "collapsed": true
   },
   "outputs": [],
   "source": [
    "def indexing_by_scaff(x):\n",
    "    to_be_index = x['Scaff']\n",
    "    x.set_index(to_be_index,inplace=True)\n",
    "    x.index.names = [\"Scaffolds\"]\n",
    "    x = x.iloc[:,1:]\n",
    "    return(x)"
   ]
  },
  {
   "cell_type": "code",
   "execution_count": 444,
   "metadata": {
    "collapsed": true
   },
   "outputs": [],
   "source": [
    "def comb_names(x,y):   ###Combines the ID name and the column name X is the list of names to add to the beginning of each column name, y is the data frame with the columns\n",
    "    new_name = []\n",
    "    for i in range(0,len(x)):\n",
    "        new_name.append([x[i] + \"_\" + y.columns[i]])\n",
    "    return new_name"
   ]
  },
  {
   "cell_type": "code",
   "execution_count": 500,
   "metadata": {
    "collapsed": true
   },
   "outputs": [],
   "source": [
    "def collect_fns():  ###Collects and runs all other functions\n",
    "    collected_data = loop_plus_cat(\"C://Users/Owner/OneDrive/School/Data, analyses/ChicaPopGen/Samtools indexing for depth/\",\"fish_name_list.txt\",\"_scaff_coverage_means.csv\")\n",
    "    collected_data_ind = indexing_by_scaff(collected_data)\n",
    "    dat = make_names_whole(\"C://Users/Owner/OneDrive/School/Data, analyses/ChicaPopGen/Samtools indexing for depth/\",\"fish_name_list.txt\")\n",
    "    dat = sum(dat,[])   ###Flattens out a list of lists\n",
    "    new_cols = comb_names(dat,collected_data_ind)\n",
    "    collected_data_ind.columns = sum(new_cols,[])\n",
    "    collected_data_ind.rename(columns = lambda x: str(x)[:-2],inplace=True)\n",
    "    return collected_data_ind"
   ]
  },
  {
   "cell_type": "code",
   "execution_count": 501,
   "metadata": {
    "collapsed": true
   },
   "outputs": [],
   "source": [
    "fin_collected_data = collect_fns()"
   ]
  },
  {
   "cell_type": "code",
   "execution_count": 363,
   "metadata": {
    "collapsed": true
   },
   "outputs": [],
   "source": [
    "fin_collected_data.to_csv(\"C://Users/Owner/OneDrive/School/Data, analyses/ChicaPopGen/Samtools indexing for depth/mean_and_sd_coverage_combined.csv\")"
   ]
  }
 ],
 "metadata": {
  "kernelspec": {
   "display_name": "Python 3",
   "language": "python",
   "name": "python3"
  },
  "language_info": {
   "codemirror_mode": {
    "name": "ipython",
    "version": 3
   },
   "file_extension": ".py",
   "mimetype": "text/x-python",
   "name": "python",
   "nbconvert_exporter": "python",
   "pygments_lexer": "ipython3",
   "version": "3.6.1"
  }
 },
 "nbformat": 4,
 "nbformat_minor": 2
}
